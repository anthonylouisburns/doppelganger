{
 "cells": [
  {
   "cell_type": "markdown",
   "metadata": {},
   "source": [
    "# Doppelganger! (Simple)\n",
    "Welcome to the simplified Doppelganger example. If you have not already done so, please see the [README document](https://github.com/sidewalklabs/doppelganger/blob/master/README.md) for installation instructions and information on what Doppelganger is doing under the hood. For a more thorough walkthrough, take a look at [doppelganger_example_full](./doppelganger_example_full.ipynb)."
   ]
  },
  {
   "cell_type": "markdown",
   "metadata": {},
   "source": [
    "# Getting Started\n",
    "Doppelganger lets you configure which census fields you use, the relationships among these fields (network structure), and the data preprocessing. We'll begin by loading the necessary packages, and then load a simple configuration file."
   ]
  },
  {
   "cell_type": "code",
   "execution_count": 1,
   "metadata": {},
   "outputs": [],
   "source": [
    "import pandas as pd\n",
    "\n",
    "from doppelganger import (\n",
    "    allocation,\n",
    "    inputs,\n",
    "    Configuration,\n",
    "    HouseholdAllocator,\n",
    "    PumsData,\n",
    "    SegmentedData,\n",
    "    BayesianNetworkModel,\n",
    "    Population,\n",
    "    Preprocessor,\n",
    "    Marginals\n",
    ")\n",
    "\n",
    "configuration = Configuration.from_file('sample_data/config.json')"
   ]
  },
  {
   "cell_type": "markdown",
   "metadata": {},
   "source": [
    "# Loading and Cleaning Data\n",
    "The following loads our data and cleans it according to the configuration. Reusing the same preprocessor ensures all data is cleaned consistently. We'll use California's PUMA `00106` for our demonstration."
   ]
  },
  {
   "cell_type": "code",
   "execution_count": 2,
   "metadata": {},
   "outputs": [],
   "source": [
    "PUMA = '00106'\n",
    "\n",
    "preprocessor = Preprocessor.from_config(configuration.preprocessing_config)\n",
    "\n",
    "# Take pums fields from the config and from the default fields needed for\n",
    "# the household allocation process.\n",
    "household_fields = tuple(set(\n",
    "    field.name for field in allocation.DEFAULT_HOUSEHOLD_FIELDS).union(\n",
    "        set(configuration.household_fields)\n",
    "))\n",
    "\n",
    "households_data = PumsData.from_csv('sample_data/households_00106_dirty.csv').clean(\n",
    "    household_fields, preprocessor, puma=PUMA\n",
    ")\n",
    "\n",
    "persons_fields = tuple(set(\n",
    "    field.name for field in allocation.DEFAULT_PERSON_FIELDS).union(\n",
    "        set(configuration.person_fields)\n",
    "))\n",
    "persons_data = PumsData.from_csv('sample_data/persons_00106_dirty.csv').clean(\n",
    "    persons_fields, preprocessor, puma=PUMA\n",
    ")"
   ]
  },
  {
   "cell_type": "markdown",
   "metadata": {},
   "source": [
    "# Household Allocation\n",
    "Now we will allocate persons and households to tracts to align with census controls.  First, load our controls based on ACS marginals."
   ]
  },
  {
   "cell_type": "code",
   "execution_count": 3,
   "metadata": {},
   "outputs": [],
   "source": [
    "controls = Marginals.from_csv('sample_data/marginals_00106.csv')"
   ]
  },
  {
   "cell_type": "markdown",
   "metadata": {},
   "source": [
    "Now use `HouseholdAllocator` to generate household allocations."
   ]
  },
  {
   "cell_type": "code",
   "execution_count": 4,
   "metadata": {},
   "outputs": [],
   "source": [
    "allocator = HouseholdAllocator.from_cleaned_data(controls, households_data, persons_data)"
   ]
  },
  {
   "cell_type": "markdown",
   "metadata": {},
   "source": [
    "# Bayesian Network Generation\n",
    "Let's create models to generate characteristics for the people and households we just allocated. We'll start by loading up our pums data.  Our model learns different probability distributions for each category of person.  The category can be whatever you want and is specified by passing a segmentation function when you load training data.\n"
   ]
  },
  {
   "cell_type": "code",
   "execution_count": 5,
   "metadata": {},
   "outputs": [],
   "source": [
    "segmentation_function = lambda x: x[inputs.AGE.name]\n",
    "person_training_data = SegmentedData.from_data(\n",
    "    persons_data,\n",
    "    list(configuration.person_fields),\n",
    "    inputs.PERSON_WEIGHT.name,\n",
    "    segmenter=segmentation_function\n",
    ")\n",
    "person_model = BayesianNetworkModel.train(\n",
    "    person_training_data,\n",
    "    configuration.person_structure,\n",
    "    configuration.person_fields\n",
    ")\n",
    "\n",
    "household_segmenter = lambda x: x[inputs.NUM_PEOPLE.name]\n",
    "\n",
    "household_training_data = SegmentedData.from_data(\n",
    "    households_data,\n",
    "    list(configuration.household_fields),\n",
    "    inputs.HOUSEHOLD_WEIGHT.name,\n",
    "    household_segmenter,\n",
    ")\n",
    "household_model = BayesianNetworkModel.train(\n",
    "    household_training_data,\n",
    "    configuration.household_structure,\n",
    "    configuration.household_fields\n",
    ")"
   ]
  },
  {
   "cell_type": "markdown",
   "metadata": {},
   "source": [
    "# Population Synthesis\n",
    "Now for the main event! We can synthesize a population by taking the household allocations\n",
    "we produced above and filling out missing categories with our Bayesian Networks.\n"
   ]
  },
  {
   "cell_type": "code",
   "execution_count": 6,
   "metadata": {},
   "outputs": [],
   "source": [
    "population = Population.generate(allocator, person_model, household_model)"
   ]
  },
  {
   "cell_type": "markdown",
   "metadata": {},
   "source": [
    "We can access the people and households as Pandas DataFrames and work with them directly. Households and people are unique by household_id. We can also join them to create a fat table of individual and household attributes."
   ]
  },
  {
   "cell_type": "code",
   "execution_count": 7,
   "metadata": {},
   "outputs": [
    {
     "name": "stdout",
     "output_type": "stream",
     "text": [
      "            household_id tract_x  serial_number_x  repeat_index_x    age sex  \\\n",
      "0       430101-1000481-0  430101          1000481               0    65+   M   \n",
      "1       430101-1000481-1  430101          1000481               1    65+   M   \n",
      "2       430101-1000481-2  430101          1000481               2    65+   M   \n",
      "3       430101-1000481-3  430101          1000481               3    65+   M   \n",
      "4       430102-1000481-0  430102          1000481               0    65+   M   \n",
      "5       430200-1000481-0  430200          1000481               0    65+   M   \n",
      "6       430200-1000481-1  430200          1000481               1    65+   M   \n",
      "7       430200-1000481-2  430200          1000481               2    65+   M   \n",
      "8       430200-1000481-3  430200          1000481               3    65+   M   \n",
      "9       430300-1000481-0  430300          1000481               0    65+   M   \n",
      "10      430300-1000481-1  430300          1000481               1    65+   M   \n",
      "11      430400-1000481-0  430400          1000481               0    65+   M   \n",
      "12      430500-1000481-0  430500          1000481               0    65+   M   \n",
      "13      430500-1000481-1  430500          1000481               1    65+   M   \n",
      "14      430500-1000481-2  430500          1000481               2    65+   M   \n",
      "15      430500-1000481-3  430500          1000481               3    65+   M   \n",
      "16      430600-1000481-0  430600          1000481               0    65+   M   \n",
      "17      430600-1000481-1  430600          1000481               1    65+   M   \n",
      "18      430600-1000481-2  430600          1000481               2    65+   M   \n",
      "19      430600-1000481-3  430600          1000481               3    65+   M   \n",
      "20      430700-1000481-0  430700          1000481               0    65+   M   \n",
      "21      430700-1000481-1  430700          1000481               1    65+   M   \n",
      "22      430800-1000481-0  430800          1000481               0    65+   M   \n",
      "23      430800-1000481-1  430800          1000481               1    65+   M   \n",
      "24      430800-1000481-2  430800          1000481               2    65+   M   \n",
      "25      430800-1000481-3  430800          1000481               3    65+   M   \n",
      "26      430900-1000481-0  430900          1000481               0    65+   M   \n",
      "27      430900-1000481-1  430900          1000481               1    65+   M   \n",
      "28      430900-1000481-2  430900          1000481               2    65+   M   \n",
      "29      431000-1000481-0  431000          1000481               0    65+   M   \n",
      "...                  ...     ...              ...             ...    ...  ..   \n",
      "198349   435800-999443-3  435800           999443               3  35-64   F   \n",
      "198350   435800-999443-3  435800           999443               3   0-17   M   \n",
      "198351   435900-999443-0  435900           999443               0  35-64   F   \n",
      "198352   435900-999443-0  435900           999443               0   0-17   M   \n",
      "198353   435900-999443-1  435900           999443               1  35-64   F   \n",
      "198354   435900-999443-1  435900           999443               1   0-17   M   \n",
      "198355   435900-999443-2  435900           999443               2  35-64   F   \n",
      "198356   435900-999443-2  435900           999443               2   0-17   M   \n",
      "198357   435900-999443-3  435900           999443               3  35-64   F   \n",
      "198358   435900-999443-3  435900           999443               3   0-17   M   \n",
      "198359   436000-999443-0  436000           999443               0  35-64   F   \n",
      "198360   436000-999443-0  436000           999443               0   0-17   M   \n",
      "198361   436000-999443-1  436000           999443               1  35-64   F   \n",
      "198362   436000-999443-1  436000           999443               1   0-17   M   \n",
      "198363   436000-999443-2  436000           999443               2  35-64   F   \n",
      "198364   436000-999443-2  436000           999443               2   0-17   M   \n",
      "198365   436100-999443-0  436100           999443               0  35-64   F   \n",
      "198366   436100-999443-0  436100           999443               0   0-17   M   \n",
      "198367   436100-999443-1  436100           999443               1  35-64   F   \n",
      "198368   436100-999443-1  436100           999443               1   0-17   M   \n",
      "198369   436100-999443-2  436100           999443               2  35-64   F   \n",
      "198370   436100-999443-2  436100           999443               2   0-17   M   \n",
      "198371   436200-999443-0  436200           999443               0  35-64   F   \n",
      "198372   436200-999443-0  436200           999443               0   0-17   M   \n",
      "198373   436200-999443-1  436200           999443               1  35-64   F   \n",
      "198374   436200-999443-1  436200           999443               1   0-17   M   \n",
      "198375   436402-999443-0  436402           999443               0  35-64   F   \n",
      "198376   436402-999443-0  436402           999443               0   0-17   M   \n",
      "198377   436402-999443-1  436402           999443               1  35-64   F   \n",
      "198378   436402-999443-1  436402           999443               1   0-17   M   \n",
      "\n",
      "       individual_income tract_y  serial_number_y  repeat_index_y num_people  \\\n",
      "0           80000-100000  430101          1000481               0          1   \n",
      "1            40000-80000  430101          1000481               1          1   \n",
      "2                    <=0  430101          1000481               2          1   \n",
      "3                    <=0  430101          1000481               3          1   \n",
      "4                0-20000  430102          1000481               0          1   \n",
      "5                    <=0  430200          1000481               0          1   \n",
      "6                    <=0  430200          1000481               1          1   \n",
      "7            20000-40000  430200          1000481               2          1   \n",
      "8                    <=0  430200          1000481               3          1   \n",
      "9                    <=0  430300          1000481               0          1   \n",
      "10                   <=0  430300          1000481               1          1   \n",
      "11          80000-100000  430400          1000481               0          1   \n",
      "12               0-20000  430500          1000481               0          1   \n",
      "13                   <=0  430500          1000481               1          1   \n",
      "14                   <=0  430500          1000481               2          1   \n",
      "15                   <=0  430500          1000481               3          1   \n",
      "16                   <=0  430600          1000481               0          1   \n",
      "17           20000-40000  430600          1000481               1          1   \n",
      "18                   <=0  430600          1000481               2          1   \n",
      "19               0-20000  430600          1000481               3          1   \n",
      "20                   <=0  430700          1000481               0          1   \n",
      "21           20000-40000  430700          1000481               1          1   \n",
      "22                   <=0  430800          1000481               0          1   \n",
      "23                   <=0  430800          1000481               1          1   \n",
      "24                   <=0  430800          1000481               2          1   \n",
      "25                   <=0  430800          1000481               3          1   \n",
      "26                   <=0  430900          1000481               0          1   \n",
      "27           40000-80000  430900          1000481               1          1   \n",
      "28                   <=0  430900          1000481               2          1   \n",
      "29                   <=0  431000          1000481               0          1   \n",
      "...                  ...     ...              ...             ...        ...   \n",
      "198349       40000-80000  435800           999443               3          2   \n",
      "198350               <=0  435800           999443               3          2   \n",
      "198351       40000-80000  435900           999443               0          2   \n",
      "198352               <=0  435900           999443               0          2   \n",
      "198353               <=0  435900           999443               1          2   \n",
      "198354               <=0  435900           999443               1          2   \n",
      "198355       20000-40000  435900           999443               2          2   \n",
      "198356               <=0  435900           999443               2          2   \n",
      "198357           0-20000  435900           999443               3          2   \n",
      "198358               <=0  435900           999443               3          2   \n",
      "198359           100000+  436000           999443               0          2   \n",
      "198360               <=0  436000           999443               0          2   \n",
      "198361           0-20000  436000           999443               1          2   \n",
      "198362               <=0  436000           999443               1          2   \n",
      "198363       20000-40000  436000           999443               2          2   \n",
      "198364               <=0  436000           999443               2          2   \n",
      "198365               <=0  436100           999443               0          2   \n",
      "198366               <=0  436100           999443               0          2   \n",
      "198367           0-20000  436100           999443               1          2   \n",
      "198368               <=0  436100           999443               1          2   \n",
      "198369               <=0  436100           999443               2          2   \n",
      "198370               <=0  436100           999443               2          2   \n",
      "198371       20000-40000  436200           999443               0          2   \n",
      "198372               <=0  436200           999443               0          2   \n",
      "198373       20000-40000  436200           999443               1          2   \n",
      "198374               <=0  436200           999443               1          2   \n",
      "198375               <=0  436402           999443               0          2   \n",
      "198376               <=0  436402           999443               0          2   \n",
      "198377               <=0  436402           999443               1          2   \n",
      "198378               <=0  436402           999443               1          2   \n",
      "\n",
      "       household_income num_vehicles  \n",
      "0               <=40000            1  \n",
      "1               <=40000            1  \n",
      "2               <=40000            1  \n",
      "3               <=40000            0  \n",
      "4               <=40000            1  \n",
      "5               <=40000            1  \n",
      "6               <=40000            0  \n",
      "7               <=40000            2  \n",
      "8               <=40000            1  \n",
      "9               <=40000            1  \n",
      "10              <=40000            1  \n",
      "11              <=40000            0  \n",
      "12              <=40000            1  \n",
      "13              <=40000            2  \n",
      "14              <=40000            2  \n",
      "15              <=40000            2  \n",
      "16              <=40000            1  \n",
      "17              <=40000            2  \n",
      "18              <=40000            1  \n",
      "19              <=40000            1  \n",
      "20              <=40000            1  \n",
      "21              <=40000            1  \n",
      "22              <=40000            1  \n",
      "23              <=40000            1  \n",
      "24              <=40000            1  \n",
      "25              <=40000            1  \n",
      "26              <=40000            1  \n",
      "27              <=40000            1  \n",
      "28              <=40000            2  \n",
      "29              <=40000            1  \n",
      "...                 ...          ...  \n",
      "198349          <=40000            2  \n",
      "198350          <=40000            2  \n",
      "198351           40000+            2  \n",
      "198352           40000+            2  \n",
      "198353          <=40000            1  \n",
      "198354          <=40000            1  \n",
      "198355           40000+            1  \n",
      "198356           40000+            1  \n",
      "198357           40000+            2  \n",
      "198358           40000+            2  \n",
      "198359          <=40000            1  \n",
      "198360          <=40000            1  \n",
      "198361           40000+            2  \n",
      "198362           40000+            2  \n",
      "198363           40000+            1  \n",
      "198364           40000+            1  \n",
      "198365           40000+           3+  \n",
      "198366           40000+           3+  \n",
      "198367          <=40000           3+  \n",
      "198368          <=40000           3+  \n",
      "198369          <=40000            2  \n",
      "198370          <=40000            2  \n",
      "198371           40000+            1  \n",
      "198372           40000+            1  \n",
      "198373          <=40000            2  \n",
      "198374          <=40000            2  \n",
      "198375           40000+            2  \n",
      "198376           40000+            2  \n",
      "198377           40000+            1  \n",
      "198378           40000+            1  \n",
      "\n",
      "[198379 rows x 13 columns]\n"
     ]
    }
   ],
   "source": [
    "people = population.generated_people\n",
    "households = population.generated_households\n",
    "\n",
    "merge_cols = [inputs.HOUSEHOLD_ID.name]\n",
    "combined = pd.merge(people, households, on=merge_cols)\n",
    "\n",
    "print(combined)"
   ]
  },
  {
   "cell_type": "markdown",
   "metadata": {},
   "source": [
    "We can easily save this population to a csv.\n"
   ]
  },
  {
   "cell_type": "code",
   "execution_count": 8,
   "metadata": {},
   "outputs": [],
   "source": [
    "population.write('generated_people.csv', 'generated_households.csv')"
   ]
  },
  {
   "cell_type": "markdown",
   "metadata": {},
   "source": [
    "We can additionally save any of our intermediary stages and load them up again\n",
    "whenever we want.  For example, we could save our Bayesian Network and reuse them\n",
    "again later with the same or different household allocations.\n"
   ]
  },
  {
   "cell_type": "code",
   "execution_count": 9,
   "metadata": {},
   "outputs": [],
   "source": [
    "person_model.write('person_model.json')\n",
    "person_model_reloaded = BayesianNetworkModel.from_file('person_model.json', segmenter=segmentation_function)"
   ]
  },
  {
   "cell_type": "markdown",
   "metadata": {},
   "source": [
    "# Customize by PUMA\n",
    "To try this out on the PUMA of your choice and learn to make other customizations, take a look at [doppelganger_example_full](./doppelganger_example_full.ipynb)."
   ]
  }
 ],
 "metadata": {
  "kernelspec": {
   "display_name": "Python 3",
   "language": "python",
   "name": "python3"
  },
  "language_info": {
   "codemirror_mode": {
    "name": "ipython",
    "version": 3
   },
   "file_extension": ".py",
   "mimetype": "text/x-python",
   "name": "python",
   "nbconvert_exporter": "python",
   "pygments_lexer": "ipython3",
   "version": "3.6.4"
  }
 },
 "nbformat": 4,
 "nbformat_minor": 2
}
